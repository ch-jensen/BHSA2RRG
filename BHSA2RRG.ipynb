{
 "cells": [
  {
   "cell_type": "markdown",
   "metadata": {},
   "source": [
    "# BHSA-2-RRG\n",
    "\n",
    "*Christian Canu Højgaard ([cch@dbi.edu](mailto:cch@dbi.edu))*\n",
    "\n",
    "This notebook is created to transform syntactic trees generated on the ETCBC database of the Hebrew Bible (BHSA) into Role and Reference (RRG)-like tree structures applicable for semantic parsing. The transformed trees are used as input in the growing database of RRG-trees which is part of the Düsseldorf University [TreeGraSP](https://rrg-bh.phil.hhu.de/editor/index) research project.\n",
    "\n",
    "The purpose is to transform the synctactic trees as much as possible into RRG-tree like structures so that the need for manual annotation is decreased.\n",
    "\n",
    "**Content of this notebook:**\n",
    "1. Import packages and BHSA data\n",
    "2. Format tree layout\n",
    "3. Create trees\n",
    "4. Postprocessing\n",
    "5. Testing\n",
    "6. Export"
   ]
  },
  {
   "cell_type": "markdown",
   "metadata": {},
   "source": [
    "## 1. Import packages and data"
   ]
  },
  {
   "cell_type": "code",
   "execution_count": 1,
   "metadata": {},
   "outputs": [],
   "source": [
    "import re, collections\n",
    "from utils import structure, layout\n",
    "import random\n",
    "\n",
    "from tf.fabric import Fabric\n",
    "from tf.app import use"
   ]
  },
  {
   "cell_type": "markdown",
   "metadata": {},
   "source": [
    "The trees and phonological modules are imported as well as the BHSA corpus itself:"
   ]
  },
  {
   "cell_type": "code",
   "execution_count": 2,
   "metadata": {
    "scrolled": false
   },
   "outputs": [
    {
     "name": "stdout",
     "output_type": "stream",
     "text": [
      "This is Text-Fabric 8.5.2\n",
      "Api reference : https://annotation.github.io/text-fabric/tf/cheatsheet.html\n",
      "\n",
      "120 features found and 0 ignored\n",
      "  0.00s loading features ...\n",
      "   |     0.00s Dataset without structure sections in otext:no structure functions in the T-API\n",
      "  8.44s All features loaded/computed - for details use loadLog()\n"
     ]
    }
   ],
   "source": [
    "TF = Fabric(locations=['~/text-fabric-data/etcbc/bhsa/tf',\n",
    "                      '~/text-fabric-data/etcbc/trees/tf',\n",
    "                      '~/text-fabric-data/etcbc/phono/tf'],\n",
    "            modules='2017')\n",
    "\n",
    "api = TF.load('''tree\n",
    "              rela code label number\n",
    "              language gloss\n",
    "              typ function\n",
    "              vs vt gn nu ps sp pdp\n",
    "              prs_gn prs_nu prs_ps\n",
    "              lex pfm g_pfm vbe g_vbe prs g_prs trailer_utf8''')"
   ]
  },
  {
   "cell_type": "code",
   "execution_count": 3,
   "metadata": {},
   "outputs": [
    {
     "data": {
      "text/html": [
       "<b title=\"local commit\">TF-app:</b> <span title=\"#113c0687cfce3077734dac1844d244d20f4ace6f offline under ~/text-fabric-data\">C:\\Users\\Ejer/text-fabric-data/annotation/app-bhsa/code</span>"
      ],
      "text/plain": [
       "<IPython.core.display.HTML object>"
      ]
     },
     "metadata": {},
     "output_type": "display_data"
    },
    {
     "data": {
      "text/html": [
       "<b>Text-Fabric:</b> <a target=\"_blank\" href=\"https://annotation.github.io/text-fabric/tf/cheatsheet.html\" title=\"text-fabric-api\">Text-Fabric API 8.5.2</a>, <a target=\"_blank\" href=\"https://github.com/annotation/app-bhsa\" title=\"bhsa TF-app\">app-bhsa v3</a>, <a target=\"_blank\" href=\"https://annotation.github.io/text-fabric/tf/about/searchusage.html\" title=\"Search Templates Introduction and Reference\">Search Reference</a><br><b>Data:</b> <a target=\"_blank\" href=\"https://etcbc.github.io/bhsa/0_home\" title=\"provenance of BHSA = Biblia Hebraica Stuttgartensia Amstelodamensis\">BHSA</a>, <a target=\"_blank\" href=\"https://annotation.github.io/text-fabric/tf/writing/hebrew.html\" title=\"How TF features represent text\">Character table</a>, <a target=\"_blank\" href=\"https://etcbc.github.io/bhsa/features/0_home\" title=\"BHSA feature documentation\">Feature docs</a><br><b>Features:</b><br><details><summary><b>etcbc/bhsa/tf/2017</b></summary><a target=\"_blank\" href=\"https://github.com/etcbc/bhsa/tree/master/tf/2017\" title=\"~/text-fabric-data/etcbc/bhsa/tf/2017/book.tf\">book</a><br><a target=\"_blank\" href=\"https://github.com/etcbc/bhsa/tree/master/tf/2017\" title=\"~/text-fabric-data/etcbc/bhsa/tf/2017/book@am.tf\">book@ll</a><br><a target=\"_blank\" href=\"https://github.com/etcbc/bhsa/tree/master/tf/2017\" title=\"~/text-fabric-data/etcbc/bhsa/tf/2017/chapter.tf\">chapter</a><br><a target=\"_blank\" href=\"https://github.com/etcbc/bhsa/tree/master/tf/2017\" title=\"~/text-fabric-data/etcbc/bhsa/tf/2017/code.tf\">code</a><br><a target=\"_blank\" href=\"https://github.com/etcbc/bhsa/tree/master/tf/2017\" title=\"~/text-fabric-data/etcbc/bhsa/tf/2017/function.tf\">function</a><br><a target=\"_blank\" href=\"https://github.com/etcbc/bhsa/tree/master/tf/2017\" title=\"~/text-fabric-data/etcbc/bhsa/tf/2017/g_cons.tf\">g_cons</a><br><a target=\"_blank\" href=\"https://github.com/etcbc/bhsa/tree/master/tf/2017\" title=\"~/text-fabric-data/etcbc/bhsa/tf/2017/g_cons_utf8.tf\">g_cons_utf8</a><br><a target=\"_blank\" href=\"https://github.com/etcbc/bhsa/tree/master/tf/2017\" title=\"~/text-fabric-data/etcbc/bhsa/tf/2017/g_lex.tf\">g_lex</a><br><a target=\"_blank\" href=\"https://github.com/etcbc/bhsa/tree/master/tf/2017\" title=\"~/text-fabric-data/etcbc/bhsa/tf/2017/g_lex_utf8.tf\">g_lex_utf8</a><br><a target=\"_blank\" href=\"https://github.com/etcbc/bhsa/tree/master/tf/2017\" title=\"~/text-fabric-data/etcbc/bhsa/tf/2017/g_pfm.tf\">g_pfm</a><br><a target=\"_blank\" href=\"https://github.com/etcbc/bhsa/tree/master/tf/2017\" title=\"~/text-fabric-data/etcbc/bhsa/tf/2017/g_prs.tf\">g_prs</a><br><a target=\"_blank\" href=\"https://github.com/etcbc/bhsa/tree/master/tf/2017\" title=\"~/text-fabric-data/etcbc/bhsa/tf/2017/g_vbe.tf\">g_vbe</a><br><a target=\"_blank\" href=\"https://github.com/etcbc/bhsa/tree/master/tf/2017\" title=\"~/text-fabric-data/etcbc/bhsa/tf/2017/g_word.tf\">g_word</a><br><a target=\"_blank\" href=\"https://github.com/etcbc/bhsa/tree/master/tf/2017\" title=\"~/text-fabric-data/etcbc/bhsa/tf/2017/g_word_utf8.tf\">g_word_utf8</a><br><a target=\"_blank\" href=\"https://github.com/etcbc/bhsa/tree/master/tf/2017\" title=\"~/text-fabric-data/etcbc/bhsa/tf/2017/gloss.tf\">gloss</a><br><a target=\"_blank\" href=\"https://github.com/etcbc/bhsa/tree/master/tf/2017\" title=\"~/text-fabric-data/etcbc/bhsa/tf/2017/gn.tf\">gn</a><br><a target=\"_blank\" href=\"https://github.com/etcbc/bhsa/tree/master/tf/2017\" title=\"~/text-fabric-data/etcbc/bhsa/tf/2017/label.tf\">label</a><br><a target=\"_blank\" href=\"https://github.com/etcbc/bhsa/tree/master/tf/2017\" title=\"~/text-fabric-data/etcbc/bhsa/tf/2017/language.tf\">language</a><br><a target=\"_blank\" href=\"https://github.com/etcbc/bhsa/tree/master/tf/2017\" title=\"~/text-fabric-data/etcbc/bhsa/tf/2017/lex.tf\">lex</a><br><a target=\"_blank\" href=\"https://github.com/etcbc/bhsa/tree/master/tf/2017\" title=\"~/text-fabric-data/etcbc/bhsa/tf/2017/lex_utf8.tf\">lex_utf8</a><br><a target=\"_blank\" href=\"https://github.com/etcbc/bhsa/tree/master/tf/2017\" title=\"~/text-fabric-data/etcbc/bhsa/tf/2017/nu.tf\">nu</a><br><a target=\"_blank\" href=\"https://github.com/etcbc/bhsa/tree/master/tf/2017\" title=\"~/text-fabric-data/etcbc/bhsa/tf/2017/number.tf\">number</a><br><a target=\"_blank\" href=\"https://github.com/etcbc/bhsa/tree/master/tf/2017\" title=\"~/text-fabric-data/etcbc/bhsa/tf/2017/otype.tf\">otype</a><br><a target=\"_blank\" href=\"https://github.com/etcbc/bhsa/tree/master/tf/2017\" title=\"~/text-fabric-data/etcbc/bhsa/tf/2017/pdp.tf\">pdp</a><br><a target=\"_blank\" href=\"https://github.com/etcbc/bhsa/tree/master/tf/2017\" title=\"~/text-fabric-data/etcbc/bhsa/tf/2017/pfm.tf\">pfm</a><br><a target=\"_blank\" href=\"https://github.com/etcbc/bhsa/tree/master/tf/2017\" title=\"~/text-fabric-data/etcbc/bhsa/tf/2017/prs.tf\">prs</a><br><a target=\"_blank\" href=\"https://github.com/etcbc/bhsa/tree/master/tf/2017\" title=\"~/text-fabric-data/etcbc/bhsa/tf/2017/prs_gn.tf\">prs_gn</a><br><a target=\"_blank\" href=\"https://github.com/etcbc/bhsa/tree/master/tf/2017\" title=\"~/text-fabric-data/etcbc/bhsa/tf/2017/prs_nu.tf\">prs_nu</a><br><a target=\"_blank\" href=\"https://github.com/etcbc/bhsa/tree/master/tf/2017\" title=\"~/text-fabric-data/etcbc/bhsa/tf/2017/prs_ps.tf\">prs_ps</a><br><a target=\"_blank\" href=\"https://github.com/etcbc/bhsa/tree/master/tf/2017\" title=\"~/text-fabric-data/etcbc/bhsa/tf/2017/ps.tf\">ps</a><br><a target=\"_blank\" href=\"https://github.com/etcbc/bhsa/tree/master/tf/2017\" title=\"~/text-fabric-data/etcbc/bhsa/tf/2017/qere.tf\">qere</a><br><a target=\"_blank\" href=\"https://github.com/etcbc/bhsa/tree/master/tf/2017\" title=\"~/text-fabric-data/etcbc/bhsa/tf/2017/qere_trailer.tf\">qere_trailer</a><br><a target=\"_blank\" href=\"https://github.com/etcbc/bhsa/tree/master/tf/2017\" title=\"~/text-fabric-data/etcbc/bhsa/tf/2017/qere_trailer_utf8.tf\">qere_trailer_utf8</a><br><a target=\"_blank\" href=\"https://github.com/etcbc/bhsa/tree/master/tf/2017\" title=\"~/text-fabric-data/etcbc/bhsa/tf/2017/qere_utf8.tf\">qere_utf8</a><br><a target=\"_blank\" href=\"https://github.com/etcbc/bhsa/tree/master/tf/2017\" title=\"~/text-fabric-data/etcbc/bhsa/tf/2017/rela.tf\">rela</a><br><a target=\"_blank\" href=\"https://github.com/etcbc/bhsa/tree/master/tf/2017\" title=\"~/text-fabric-data/etcbc/bhsa/tf/2017/sp.tf\">sp</a><br><a target=\"_blank\" href=\"https://github.com/etcbc/bhsa/tree/master/tf/2017\" title=\"~/text-fabric-data/etcbc/bhsa/tf/2017/trailer.tf\">trailer</a><br><a target=\"_blank\" href=\"https://github.com/etcbc/bhsa/tree/master/tf/2017\" title=\"~/text-fabric-data/etcbc/bhsa/tf/2017/trailer_utf8.tf\">trailer_utf8</a><br><a target=\"_blank\" href=\"https://github.com/etcbc/bhsa/tree/master/tf/2017\" title=\"~/text-fabric-data/etcbc/bhsa/tf/2017/typ.tf\">typ</a><br><a target=\"_blank\" href=\"https://github.com/etcbc/bhsa/tree/master/tf/2017\" title=\"~/text-fabric-data/etcbc/bhsa/tf/2017/vbe.tf\">vbe</a><br><a target=\"_blank\" href=\"https://github.com/etcbc/bhsa/tree/master/tf/2017\" title=\"~/text-fabric-data/etcbc/bhsa/tf/2017/verse.tf\">verse</a><br><a target=\"_blank\" href=\"https://github.com/etcbc/bhsa/tree/master/tf/2017\" title=\"~/text-fabric-data/etcbc/bhsa/tf/2017/voc_lex_utf8.tf\">voc_lex_utf8</a><br><a target=\"_blank\" href=\"https://github.com/etcbc/bhsa/tree/master/tf/2017\" title=\"~/text-fabric-data/etcbc/bhsa/tf/2017/vs.tf\">vs</a><br><a target=\"_blank\" href=\"https://github.com/etcbc/bhsa/tree/master/tf/2017\" title=\"~/text-fabric-data/etcbc/bhsa/tf/2017/vt.tf\">vt</a><br><b><i><a target=\"_blank\" href=\"https://github.com/etcbc/bhsa/tree/master/tf/2017\" title=\"~/text-fabric-data/etcbc/bhsa/tf/2017/oslots.tf\">oslots</a></i></b><br></details><details><summary><b>etcbc/phono/tf/2017</b></summary><a target=\"_blank\" href=\"https://github.com/etcbc/phono/tree/master/tf/2017\" title=\"~/text-fabric-data/etcbc/phono/tf/2017/phono.tf\">phono</a><br><a target=\"_blank\" href=\"https://github.com/etcbc/phono/tree/master/tf/2017\" title=\"~/text-fabric-data/etcbc/phono/tf/2017/phono_trailer.tf\">phono_trailer</a><br></details><details><summary><b>etcbc/trees/tf/2017</b></summary><a target=\"_blank\" href=\"https://github.com/etcbc/trees/tree/master/tf/2017\" title=\"~/text-fabric-data/etcbc/trees/tf/2017/tree.tf\">tree</a><br></details>"
      ],
      "text/plain": [
       "<IPython.core.display.HTML object>"
      ]
     },
     "metadata": {},
     "output_type": "display_data"
    },
    {
     "data": {
      "text/html": [
       "<style>tr.tf.ltr, td.tf.ltr, th.tf.ltr { text-align: left ! important;}\n",
       "tr.tf.rtl, td.tf.rtl, th.tf.rtl { text-align: right ! important;}\n",
       "@font-face {\n",
       "  font-family: \"Gentium Plus\";\n",
       "  src: local('Gentium Plus'), local('GentiumPlus'),\n",
       "    url('/server/static/fonts/GentiumPlus-R.woff') format('woff'),\n",
       "    url('https://github.com/annotation/text-fabric/blob/master/tf/server/static/fonts/GentiumPlus-R.woff?raw=true') format('woff');\n",
       "}\n",
       "\n",
       "@font-face {\n",
       "  font-family: \"Ezra SIL\";\n",
       "  src: local('Ezra SIL'), local('EzraSIL'),\n",
       "    url('/server/static/fonts/SILEOT.woff') format('woff'),\n",
       "    url('https://github.com/annotation/text-fabric/blob/master/tf/server/static/fonts/SILEOT.woff?raw=true') format('woff');\n",
       "}\n",
       "\n",
       "@font-face {\n",
       "  font-family: \"SBL Hebrew\";\n",
       "  src: local('SBL Hebrew'), local('SBLHebrew'),\n",
       "    url('/server/static/fonts/SBL_Hbrw.woff') format('woff'),\n",
       "    url('https://github.com/annotation/text-fabric/blob/master/tf/server/static/fonts/SBL_Hbrw.woff?raw=true') format('woff');\n",
       "}\n",
       "\n",
       "@font-face {\n",
       "  font-family: \"Estrangelo Edessa\";\n",
       "  src: local('Estrangelo Edessa'), local('EstrangeloEdessa');\n",
       "    url('/server/static/fonts/SyrCOMEdessa.woff') format('woff'),\n",
       "    url('https://github.com/annotation/text-fabric/blob/master/tf/server/static/fonts/SyrCOMEdessa.woff?raw=true') format('woff');\n",
       "}\n",
       "\n",
       "@font-face {\n",
       "  font-family: AmiriQuran;\n",
       "  font-style: normal;\n",
       "  font-weight: 400;\n",
       "  src: local('Amiri Quran'), local('AmiriQuran'),\n",
       "    url('/server/static/fonts/AmiriQuran.woff') format('woff'),\n",
       "    url('https://github.com/annotation/text-fabric/blob/master/tf/server/static/fonts/AmiriQuran.woff?raw=true') format('woff');\n",
       "}\n",
       "\n",
       "@font-face {\n",
       "  font-family: AmiriQuranColored;\n",
       "  font-style: normal;\n",
       "  font-weight: 400;\n",
       "  src: local('Amiri Quran Colored'), local('AmiriQuranColored'),\n",
       "    url('/server/static/fonts/AmiriQuranColored.woff') format('woff'),\n",
       "    url('https://github.com/annotation/text-fabric/blob/master/tf/server/static/fonts/AmiriQuranColored.woff?raw=true') format('woff');\n",
       "}\n",
       "\n",
       "@font-face {\n",
       "  font-family: \"Santakku\";\n",
       "  src: local('Santakku'),\n",
       "    url('/server/static/fonts/Santakku.woff') format('woff'),\n",
       "    url('https://github.com/annotation/text-fabric/blob/master/tf/server/static/fonts/Santakku.woff?raw=true') format('woff');\n",
       "}\n",
       "\n",
       "@font-face {\n",
       "  font-family: \"SantakkuM\";\n",
       "  src: local('SantakkuM'),\n",
       "    url('/server/static/fonts/SantakkuM.woff') format('woff'),\n",
       "    url('https://github.com/annotation/text-fabric/blob/master/tf/server/static/fonts/SantakkuM.woff?raw=true') format('woff');\n",
       "}\n",
       "/* bypassing some classical notebook settings */\n",
       "div#notebook {\n",
       "  line-height: unset;\n",
       "}\n",
       "/* neutral text */\n",
       ".txtn,.txtn a:visited,.txtn a:link {\n",
       "    font-family: sans-serif;\n",
       "    font-size: medium;\n",
       "    direction: ltr;\n",
       "    unicode-bidi: embed;\n",
       "    text-decoration: none;\n",
       "    color: var(--text-color);\n",
       "}\n",
       "/* transcription text */\n",
       ".txtt,.txtt a:visited,.txtt a:link {\n",
       "    font-family: monospace;\n",
       "    font-size: medium;\n",
       "    direction: ltr;\n",
       "    unicode-bidi: embed;\n",
       "    text-decoration: none;\n",
       "    color: var(--text-color);\n",
       "}\n",
       "/* source text */\n",
       ".txto,.txto a:visited,.txto a:link {\n",
       "    font-family: serif;\n",
       "    font-size: medium;\n",
       "    direction: ltr;\n",
       "    unicode-bidi: embed;\n",
       "    text-decoration: none;\n",
       "    color: var(--text-color);\n",
       "}\n",
       "/* phonetic text */\n",
       ".txtp,.txtp a:visited,.txtp a:link {\n",
       "    font-family: Gentium, sans-serif;\n",
       "    font-size: medium;\n",
       "    direction: ltr;\n",
       "    unicode-bidi: embed;\n",
       "    text-decoration: none;\n",
       "    color: var(--text-color);\n",
       "}\n",
       "/* original script text */\n",
       ".txtu,.txtu a:visited,.txtu a:link {\n",
       "    font-family: Gentium, sans-serif;\n",
       "    font-size: medium;\n",
       "    text-decoration: none;\n",
       "    color: var(--text-color);\n",
       "}\n",
       "/* hebrew */\n",
       ".txtu.hbo,.lex.hbo {\n",
       "    font-family: \"Ezra SIL\", \"SBL Hebrew\", sans-serif;\n",
       "    font-size: large;\n",
       "    direction: rtl ! important;\n",
       "    unicode-bidi: embed;\n",
       "}\n",
       "/* syriac */\n",
       ".txtu.syc,.lex.syc {\n",
       "    font-family: \"Estrangelo Edessa\", sans-serif;\n",
       "    font-size: medium;\n",
       "    direction: rtl ! important;\n",
       "    unicode-bidi: embed;\n",
       "}\n",
       "/* neo aramaic */\n",
       ".txtu.cld,.lex.cld {\n",
       "    font-family: \"CharisSIL-R\", sans-serif;\n",
       "    font-size: medium;\n",
       "    direction: ltr ! important;\n",
       "    unicode-bidi: embed;\n",
       "}\n",
       "/* standard arabic */\n",
       ".txtu.ara,.lex.ara {\n",
       "    font-family: \"AmiriQuran\", sans-serif;\n",
       "    font-size: large;\n",
       "    direction: rtl ! important;\n",
       "    unicode-bidi: embed;\n",
       "}\n",
       "/* cuneiform */\n",
       ".txtu.akk,.lex.akk {\n",
       "    font-family: Santakku, sans-serif;\n",
       "    font-size: large;\n",
       "    direction: ltr ! important;\n",
       "    unicode-bidi: embed;\n",
       "}\n",
       "/* greek */\n",
       ".txtu.grc,.lex.grc a:link {\n",
       "    font-family: Gentium, sans-serif;\n",
       "    font-size: medium;\n",
       "    direction: ltr ! important;\n",
       "    unicode-bidi: embed;\n",
       "}\n",
       "a:hover {\n",
       "    text-decoration: underline | important;\n",
       "    color: #0000ff | important;\n",
       "}\n",
       ".ltr {\n",
       "    direction: ltr ! important;\n",
       "    unicode-bidi: embed;\n",
       "}\n",
       ".rtl {\n",
       "    direction: rtl ! important;\n",
       "    unicode-bidi: embed;\n",
       "}\n",
       ".ubd {\n",
       "    unicode-bidi: embed;\n",
       "}\n",
       ".col {\n",
       "   display: inline-block;\n",
       "}\n",
       ".features {\n",
       "    font-family: monospace;\n",
       "    font-size: medium;\n",
       "    font-weight: bold;\n",
       "    color: var(--features);\n",
       "    display: flex;\n",
       "    flex-flow: column nowrap;\n",
       "    justify-content: flex-start;\n",
       "    align-items: flex-start;\n",
       "    align-content: flex-start;\n",
       "    padding: 2px;\n",
       "    margin: 2px;\n",
       "    direction: ltr;\n",
       "    unicode-bidi: embed;\n",
       "    border: var(--meta-width) solid var(--meta-color);\n",
       "    border-radius: var(--meta-width);\n",
       "}\n",
       ".features div,.features span {\n",
       "    padding: 0;\n",
       "    margin: -2px 0;\n",
       "}\n",
       ".features .f {\n",
       "    font-family: sans-serif;\n",
       "    font-size: small;\n",
       "    font-weight: normal;\n",
       "    color: #5555bb;\n",
       "}\n",
       ".features .xft {\n",
       "  color: #000000;\n",
       "  background-color: #eeeeee;\n",
       "  font-size: medium;\n",
       "  margin: 2px 0px;\n",
       "}\n",
       ".features .xft .f {\n",
       "  color: #000000;\n",
       "  background-color: #eeeeee;\n",
       "  font-size: small;\n",
       "  font-weight: normal;\n",
       "}\n",
       ".tfsechead {\n",
       "    font-family: sans-serif;\n",
       "    font-size: small;\n",
       "    font-weight: bold;\n",
       "    color: var(--tfsechead);\n",
       "    unicode-bidi: embed;\n",
       "    text-align: start;\n",
       "}\n",
       ".structure {\n",
       "    font-family: sans-serif;\n",
       "    font-size: small;\n",
       "    font-weight: bold;\n",
       "    color: var(--structure);\n",
       "    unicode-bidi: embed;\n",
       "    text-align: start;\n",
       "}\n",
       ".comments {\n",
       "    display: flex;\n",
       "    justify-content: flex-start;\n",
       "    align-items: flex-start;\n",
       "    align-content: flex-start;\n",
       "    flex-flow: column nowrap;\n",
       "}\n",
       ".nd, a:link.nd {\n",
       "    font-family: sans-serif;\n",
       "    font-size: small;\n",
       "    color: var(--node);\n",
       "    vertical-align: super;\n",
       "    direction: ltr ! important;\n",
       "    unicode-bidi: embed;\n",
       "}\n",
       ".lex {\n",
       "  color: var(--lex-color);;\n",
       "}\n",
       ".children,.children.ltr {\n",
       "    display: flex;\n",
       "    border: 0;\n",
       "    background-color: #ffffff;\n",
       "    justify-content: flex-start;\n",
       "    align-items: flex-start;\n",
       "    align-content: flex-start;\n",
       "}\n",
       ".children.stretch {\n",
       "    align-items: stretch;\n",
       "}\n",
       ".children.hor {\n",
       "    flex-flow: row nowrap;\n",
       "}\n",
       ".children.hor.wrap {\n",
       "    flex-flow: row wrap;\n",
       "}\n",
       ".children.ver {\n",
       "    flex-flow: column nowrap;\n",
       "}\n",
       ".children.ver.wrap {\n",
       "    flex-flow: column wrap;\n",
       "}\n",
       ".contnr {\n",
       "    width: fit-content;\n",
       "    display: flex;\n",
       "    justify-content: flex-start;\n",
       "    align-items: flex-start;\n",
       "    align-content: flex-start;\n",
       "    flex-flow: column nowrap;\n",
       "    background: #ffffff none repeat scroll 0 0;\n",
       "    padding:  10px 2px 2px 2px;\n",
       "    margin: 16px 2px 2px 2px;\n",
       "    border-style: solid;\n",
       "    font-size: small;\n",
       "}\n",
       ".contnr.trm {\n",
       "    background-attachment: local;\n",
       "}\n",
       ".contnr.cnul {\n",
       "    padding:  0;\n",
       "    margin: 0;\n",
       "    border-style: solid;\n",
       "    font-size: xx-small;\n",
       "}\n",
       ".contnr.cnul,.lbl.cnul {\n",
       "    border-color: var(--border-color-nul);\n",
       "    border-width: var(--border-width-nul);\n",
       "    border-radius: var(--border-width-nul);\n",
       "}\n",
       ".contnr.c0,.lbl.c0 {\n",
       "    border-color: var(--border-color0);\n",
       "    border-width: var(--border-width0);\n",
       "    border-radius: var(--border-width0);\n",
       "}\n",
       ".contnr.c1,.lbl.c1 {\n",
       "    border-color: var(--border-color1);\n",
       "    border-width: var(--border-width1);\n",
       "    border-radius: var(--border-width1);\n",
       "}\n",
       ".contnr.c2,.lbl.c2 {\n",
       "    border-color: var(--border-color2);\n",
       "    border-width: var(--border-width2);\n",
       "    border-radius: var(--border-width2);\n",
       "}\n",
       ".contnr.c3,.lbl.c3 {\n",
       "    border-color: var(--border-color3);\n",
       "    border-width: var(--border-width3);\n",
       "    border-radius: var(--border-width3);\n",
       "}\n",
       ".contnr.c4,.lbl.c4 {\n",
       "    border-color: var(--border-color4);\n",
       "    border-width: var(--border-width4);\n",
       "    border-radius: var(--border-width4);\n",
       "}\n",
       "span.plain {\n",
       "    display: inline-block;\n",
       "    white-space: pre-wrap;\n",
       "}\n",
       ".plain {\n",
       "    background-color: #ffffff;\n",
       "}\n",
       ".plain.l,.contnr.l,.contnr.l>.lbl {\n",
       "    border-left-style: dotted\n",
       "}\n",
       ".plain.r,.contnr.r,.contnr.r>.lbl {\n",
       "    border-right-style: dotted\n",
       "}\n",
       ".plain.lno,.contnr.lno,.contnr.lno>.lbl {\n",
       "    border-left-style: none\n",
       "}\n",
       ".plain.rno,.contnr.rno,.contnr.rno>.lbl {\n",
       "    border-right-style: none\n",
       "}\n",
       ".plain.l {\n",
       "    padding-left: 4px;\n",
       "    margin-left: 2px;\n",
       "    border-width: var(--border-width-plain);\n",
       "}\n",
       ".plain.r {\n",
       "    padding-right: 4px;\n",
       "    margin-right: 2px;\n",
       "    border-width: var(--border-width-plain);\n",
       "}\n",
       ".lbl {\n",
       "    font-family: monospace;\n",
       "    margin-top: -24px;\n",
       "    margin-left: 20px;\n",
       "    background: #ffffff none repeat scroll 0 0;\n",
       "    padding: 0 6px;\n",
       "    border-style: solid;\n",
       "    display: block;\n",
       "    color: var(--label)\n",
       "}\n",
       ".lbl.trm {\n",
       "    background-attachment: local;\n",
       "    margin-top: 2px;\n",
       "    margin-left: 2px;\n",
       "    padding: 2px 2px;\n",
       "    border-style: none;\n",
       "}\n",
       ".lbl.cnul {\n",
       "    font-size: xx-small;\n",
       "}\n",
       ".lbl.c0 {\n",
       "    font-size: small;\n",
       "}\n",
       ".lbl.c1 {\n",
       "    font-size: small;\n",
       "}\n",
       ".lbl.c2 {\n",
       "    font-size: medium;\n",
       "}\n",
       ".lbl.c3 {\n",
       "    font-size: medium;\n",
       "}\n",
       ".lbl.c4 {\n",
       "    font-size: large;\n",
       "}\n",
       ".occs, a:link.occs {\n",
       "    font-size: small;\n",
       "}\n",
       "\n",
       "/* PROVENANCE */\n",
       "\n",
       "div.prov {\n",
       "\tmargin: 40px;\n",
       "\tpadding: 20px;\n",
       "\tborder: 2px solid var(--fog-rim);\n",
       "}\n",
       "div.pline {\n",
       "\tdisplay: flex;\n",
       "\tflex-flow: row nowrap;\n",
       "\tjustify-content: stretch;\n",
       "\talign-items: baseline;\n",
       "}\n",
       "div.p2line {\n",
       "\tmargin-left: 2em;\n",
       "\tdisplay: flex;\n",
       "\tflex-flow: row nowrap;\n",
       "\tjustify-content: stretch;\n",
       "\talign-items: baseline;\n",
       "}\n",
       "div.psline {\n",
       "\tdisplay: flex;\n",
       "\tflex-flow: row nowrap;\n",
       "\tjustify-content: stretch;\n",
       "\talign-items: baseline;\n",
       "\tbackground-color: var(--gold-mist-back);\n",
       "}\n",
       "div.pname {\n",
       "\tflex: 0 0 5rem;\n",
       "\tfont-weight: bold;\n",
       "}\n",
       "div.pval {\n",
       "    flex: 1 1 auto;\n",
       "}\n",
       "\n",
       ":root {\n",
       "\t--node:               hsla(120, 100%,  20%, 1.0  );\n",
       "\t--label:              hsla(  0, 100%,  20%, 1.0  );\n",
       "\t--tfsechead:          hsla(  0, 100%,  25%, 1.0  );\n",
       "\t--structure:          hsla(120, 100%,  25%, 1.0  );\n",
       "\t--features:           hsla(  0,   0%,  30%, 1.0  );\n",
       "  --text-color:         hsla( 60,  80%,  10%, 1.0  );\n",
       "  --lex-color:          hsla(220,  90%,  60%, 1.0  );\n",
       "  --meta-color:         hsla(  0,   0%,  90%, 0.7  );\n",
       "  --meta-width:         3px;\n",
       "  --border-color-nul:   hsla(  0,   0%,  90%, 0.5  );\n",
       "  --border-color0:      hsla(  0,   0%,  90%, 0.9  );\n",
       "  --border-color1:      hsla(  0,   0%,  80%, 0.9  );\n",
       "  --border-color2:      hsla(  0,   0%,  70%, 0.9  );\n",
       "  --border-color3:      hsla(  0,   0%,  80%, 0.8  );\n",
       "  --border-color4:      hsla(  0,   0%,  60%, 0.9  );\n",
       "  --border-width-nul:   2px;\n",
       "  --border-width0:      2px;\n",
       "  --border-width1:      3px;\n",
       "  --border-width2:      4px;\n",
       "  --border-width3:      6px;\n",
       "  --border-width4:      5px;\n",
       "  --border-width-plain: 2px;\n",
       "}\n",
       ".hl {\n",
       "  background-color: var(--hl-strong);\n",
       "}\n",
       "span.hl {\n",
       "\tbackground-color: var(--hl-strong);\n",
       "\tborder-width: 0;\n",
       "\tborder-radius: 2px;\n",
       "\tborder-style: solid;\n",
       "}\n",
       "div.contnr.hl,div.lbl.hl {\n",
       "  background-color: var(--hl-strong);\n",
       "}\n",
       "div.contnr.hl {\n",
       "  border-color: var(--hl-rim) ! important;\n",
       "\tborder-width: 4px ! important;\n",
       "}\n",
       "\n",
       "span.hlbx {\n",
       "\tborder-color: var(--hl-rim);\n",
       "\tborder-width: 4px ! important;\n",
       "\tborder-style: solid;\n",
       "\tborder-radius: 6px;\n",
       "  padding: 4px;\n",
       "  margin: 4px;\n",
       "}\n",
       "\n",
       "span.plain {\n",
       "  display: inline-block;\n",
       "  white-space: pre-wrap;\n",
       "}\n",
       "\n",
       ":root {\n",
       "\t--hl-strong:        hsla( 60, 100%,  70%, 0.9  );\n",
       "\t--hl-rim:           hsla( 55,  80%,  50%, 1.0  );\n",
       "}\n",
       "</style>"
      ],
      "text/plain": [
       "<IPython.core.display.HTML object>"
      ]
     },
     "metadata": {},
     "output_type": "display_data"
    },
    {
     "data": {
      "text/html": [
       "<div><b>Text-Fabric API:</b> names <a target=\"_blank\" href=\"https://annotation.github.io/text-fabric/tf/cheatsheet.html\" title=\"doc\">N F E L T S C TF</a> directly usable</div><hr>"
      ],
      "text/plain": [
       "<IPython.core.display.HTML object>"
      ]
     },
     "metadata": {},
     "output_type": "display_data"
    }
   ],
   "source": [
    "A = use('bhsa', api=api, hoist=globals())"
   ]
  },
  {
   "cell_type": "markdown",
   "metadata": {},
   "source": [
    "## 2. Format tree layout\n",
    "\n",
    "There is need for some processing of the BHSA syntactic trees to make them suitable as RRG-trees:\n",
    "1. Phonetic representation of the text\n",
    "2. Further segmentation of the words so that all referring morphemes are represented as constituents (including  inflectional suffixes with gender, number and/or gender information). There are four possible constituents for each word: prefix, lexical root, suffix, pronominal suffix. The \"lexical root\" is not the dictionary form but the core of the word after stripping possible affixes. In some cases Ø (i.e., zero marking) is used to designate a referrent not marked grammatically, e.g., the 3ms *qatal* form which has no suffix but nevertheless refers to 3ms participant.\n",
    "\n",
    "The procedure is to format each word at a time and then feed the formatted word into tree. The formatting process is carried out by the following functions."
   ]
  },
  {
   "cell_type": "code",
   "execution_count": 4,
   "metadata": {},
   "outputs": [
    {
     "data": {
      "text/plain": [
       "'(v hᵊyôṯ-)(PRO ām)'"
      ]
     },
     "execution_count": 4,
     "metadata": {},
     "output_type": "execute_result"
    }
   ],
   "source": [
    "def stripSigns(w):\n",
    "    '''The function takes a word string and cleanses it based on accepted letters and returns the length'''\n",
    "    \n",
    "    #Complex vowels (e.g. holem waw) are rendered as one letter in the phonetic representation. Therefore,\n",
    "    #complex vowels are stripped to one letter first:\n",
    "    complex_vowels = re.sub('OW|IJ|;J|W.','O', w)\n",
    "    \n",
    "    #Remove final shewa (because it will also be silent (= absent) in the phonetic representation))\n",
    "    if complex_vowels:\n",
    "        if complex_vowels[-1] in {':','H'}:\n",
    "            complex_vowels = complex_vowels[:-1]\n",
    "\n",
    "    letters = '[>BGDHWZXVJKkLMmNnS<pPYyQRCF#CFTA@E;:IOU]+' #accepted letters (Hebrew consonants and vowels)\n",
    "    return len(\"\".join(re.findall(letters, complex_vowels)))\n",
    "\n",
    "def mapSP(sp):\n",
    "    '''Function to map ETCBC POS-tags with tree tags'''\n",
    "    mapping = {'verb':'v',\n",
    "              'subs':'n',\n",
    "              'prep':'p',\n",
    "              'adjv':'aj',\n",
    "              'intj':'itj'}\n",
    "    \n",
    "    return mapping[sp]\n",
    "\n",
    "def segmentWord(w):\n",
    "    '''This function segmentates word strings into morphological constituents. The function returns a segmented version\n",
    "    of the word replete parentheses representing nodes or leaves.'''\n",
    "\n",
    "    string = ''\n",
    "    \n",
    "    word = re.sub('[ˈˌ]', '', F.phono.v(w)) #Removing accent markers because they are not accounted for in the lexical rep.\n",
    "    word = word.replace(' . f', '').replace(' . s','') #Removing sof-passoq.\n",
    "    \n",
    "    #Identifying affixes:\n",
    "    preformative = stripSigns(F.g_pfm.v(w))\n",
    "    verbal_ending = stripSigns(F.g_vbe.v(w))\n",
    "    pronominal_sfx = stripSigns(F.g_prs.v(w))\n",
    "    \n",
    "    #For some reason, a pro-sfx. may not have a 'g_prs' annotation. In those cases, 'prs' i used:\n",
    "    if not pronominal_sfx and F.g_prs.v(w): \n",
    "        pronominal_sfx = len(F.prs.v(w))\n",
    "    \n",
    "    if F.trailer_utf8.v(w) not in {'-','־'}: \n",
    "        trailer = 0 #If trailer is a white space, ignore. \n",
    "    else:\n",
    "        trailer = len(F.trailer_utf8.v(w)) #Length of trailer\n",
    "    \n",
    "    #1. Verbs in the suffix conjugation are handled independently:\n",
    "    if F.vt.v(w) in {'perf','impv','ptca','ptcp'} and F.pdp.v(w) == 'verb':\n",
    "        if not verbal_ending:\n",
    "            verbal_ending = 1 #length of morpheme\n",
    "            if pronominal_sfx or trailer:\n",
    "                word = f'{word[:-pronominal_sfx-trailer]}Ø{word[-pronominal_sfx-trailer:]}'#Ø inserted between root and pro_sfx\n",
    "            else:\n",
    "                word = f'{word}Ø' #Ø inserted after verbal root\n",
    "        \n",
    "        root = word[:-verbal_ending-pronominal_sfx-trailer]\n",
    "        string += f'({mapSP(F.sp.v(w))} {root}-)' #Write root\n",
    "        string += f'(ARG {word[len(root):len(root)+verbal_ending]}' #Write verbal ending\n",
    "    \n",
    "    #2. Verbs in the prefix conjugation\n",
    "    elif F.vt.v(w) in {'impf','wayq'}:\n",
    "        if pronominal_sfx or trailer:\n",
    "            root = word[preformative:-pronominal_sfx-trailer] #Get root\n",
    "        else:\n",
    "            root = word[preformative:]\n",
    "            \n",
    "        string += f'(ARG {word[:preformative]}-)' #Write verbal ending\n",
    "        string += f'({mapSP(F.sp.v(w))} {root}' #Write root\n",
    "    \n",
    "    #3. Non-verbs, presumably with pronominal suffixes\n",
    "    else: \n",
    "        string += f'({mapSP(F.sp.v(w))} {word[:-pronominal_sfx-trailer]}'\n",
    "        \n",
    "    if pronominal_sfx: #Finally, adding pronominal suffix\n",
    "        string += f'-)(PRO {word[-pronominal_sfx-trailer:]})' #Write pronominal suffix\n",
    "    else: #If no pro-sfx, a closing bracket and a possible trailer is written\n",
    "        if trailer:\n",
    "            string += f'{word[-trailer]})'\n",
    "        else:\n",
    "            string += ')'\n",
    "        \n",
    "    return string\n",
    "    \n",
    "segmentWord(1796)"
   ]
  },
  {
   "cell_type": "markdown",
   "metadata": {},
   "source": [
    "## 3. Create trees"
   ]
  },
  {
   "cell_type": "markdown",
   "metadata": {},
   "source": [
    "### 3a Select sentences to annotate\n",
    "\n",
    "The sentences are picked semi-randomly. A few sentences are manually selected, the remaining are manually collected:"
   ]
  },
  {
   "cell_type": "code",
   "execution_count": 5,
   "metadata": {},
   "outputs": [],
   "source": [
    "manual_selection = [1173012,\n",
    "                   1217205,\n",
    "                   1217206,\n",
    "                   1217207,\n",
    "                   1217208]"
   ]
  },
  {
   "cell_type": "code",
   "execution_count": 6,
   "metadata": {},
   "outputs": [
    {
     "name": "stdout",
     "output_type": "stream",
     "text": [
      "Number of sentences in corpus: 63711\n"
     ]
    }
   ],
   "source": [
    "all_sentences = list(F.otype.s('sentence'))\n",
    "print(f'Number of sentences in corpus: {len(all_sentences)}')\n",
    "\n",
    "#Shuffle sentences\n",
    "random.Random(4).shuffle(all_sentences)"
   ]
  },
  {
   "cell_type": "code",
   "execution_count": 7,
   "metadata": {},
   "outputs": [],
   "source": [
    "#First export: ~1000 sentences\n",
    "first_sentences = all_sentences[:1000]\n",
    "first_sentences += manual_selection\n",
    "first_sentences = list(set(first_sentences))\n",
    "first_sentences.sort()"
   ]
  },
  {
   "cell_type": "markdown",
   "metadata": {},
   "source": [
    "### 3b Get raw tree\n",
    "\n",
    "The rawtrees are imported for formatting:"
   ]
  },
  {
   "cell_type": "code",
   "execution_count": 14,
   "metadata": {},
   "outputs": [],
   "source": [
    "sentenceNode = 1172308\n",
    "firstSlot = L.d(sentenceNode, 'word')[0]\n",
    "rawTree = F.tree.v(sentenceNode)"
   ]
  },
  {
   "cell_type": "markdown",
   "metadata": {},
   "source": [
    "### 3c Filling phrases\n",
    "\n",
    "Phrase type information is inserted instead of the original phrase numbers:"
   ]
  },
  {
   "cell_type": "code",
   "execution_count": 15,
   "metadata": {},
   "outputs": [],
   "source": [
    "numPattern = re.compile('[0-9]+')\n",
    "\n",
    "def fillPhrases(tree, start, phraseRep):\n",
    "    \n",
    "    phrases = set()\n",
    "    \n",
    "    for n in numPattern.findall(tree):\n",
    "        \n",
    "        ph = L.u(int(n)+start, 'phrase')[0]\n",
    "        if ph not in phrases:\n",
    "            mother = tree.rfind(F.typ.v(ph), 0, tree.index(n))\n",
    "            tree = tree[:mother] + f'{F.typ.v(ph)}-{phraseRep(ph)}' + tree[len(F.typ.v(ph))+mother:]\n",
    "            phrases.add(ph)\n",
    "\n",
    "    return tree\n",
    "\n",
    "ph_functions = fillPhrases(rawTree, firstSlot, F.function.v)"
   ]
  },
  {
   "cell_type": "code",
   "execution_count": 16,
   "metadata": {},
   "outputs": [
    {
     "data": {
      "text/plain": [
       "'(S(C(CP-Conj(cj 0))(NP-Subj(U(n 1))(U(U(n 2))(U(dt 3)(n 4))))(AdvP-Time(n 5))(VP-Pred(vb 6))))'"
      ]
     },
     "execution_count": 16,
     "metadata": {},
     "output_type": "execute_result"
    }
   ],
   "source": [
    "#Phrase-formatted tree\n",
    "ph_functions"
   ]
  },
  {
   "cell_type": "markdown",
   "metadata": {},
   "source": [
    "### 3d Filling the leaves\n",
    "\n",
    "Next step is to fill the leaves. The word segmentation functions are already given above. Now, the functions are called but only in specific cases. The words are only segmented if they have a prononimal suffix (```prs```) or are finite verbs or participles. The copula *HJH* is never segmented into morphemes as it is treated as an auxillary in RRG."
   ]
  },
  {
   "cell_type": "code",
   "execution_count": 12,
   "metadata": {},
   "outputs": [
    {
     "name": "stdout",
     "output_type": "stream",
     "text": [
      "  1.32s 2196 results\n"
     ]
    }
   ],
   "source": [
    "#Identifying all cases of the copula HJH\n",
    "HJH = '''\n",
    "clause\n",
    "  phrase function=PreC\n",
    "  phrase\n",
    "   word lex=HJH[\n",
    "'''\n",
    "\n",
    "HJH = A.search(HJH)\n",
    "exclude_HJH = [r[3] for r in HJH]"
   ]
  },
  {
   "cell_type": "code",
   "execution_count": null,
   "metadata": {},
   "outputs": [],
   "source": [
    "#Accepted verbal tenses for word segmentation\n",
    "tenses = {'wayq','perf','impf','impv','ptca','ptcp'}"
   ]
  },
  {
   "cell_type": "markdown",
   "metadata": {},
   "source": [
    "Formatting:"
   ]
  },
  {
   "cell_type": "code",
   "execution_count": 17,
   "metadata": {},
   "outputs": [
    {
     "data": {
      "text/plain": [
       "'(S(C(CP(cj wᵊ-))(NP(U(n ḵol-))(U(U(n ʕˌēśev))(U(dt ha-)(n śśāḏˌeh))))(AdvP(n ṭˈerem))(VP(vb (ARG yi-)(v ṣmāḥ)))))'"
      ]
     },
     "execution_count": 17,
     "metadata": {},
     "output_type": "execute_result"
    }
   ],
   "source": [
    "numPattern = re.compile('[0-9]+')\n",
    "\n",
    "def fillWords(tree, start, wordRep):\n",
    "    def numReplace(match):\n",
    "        return wordRep(int(match.group(0)) + start)\n",
    "    return numPattern.sub(numReplace, tree)\n",
    "\n",
    "def phonoGloss(n):\n",
    "    layout = '{}'\n",
    "\n",
    "    if F.prs.v(n) not in {'none','N/A','n/a','nan','absent'} or (F.vt.v(n) in tenses and F.pdp.v(n) == 'verb' and n not in exclude_HJH):\n",
    "        return segmentWord(n)\n",
    "    else:\n",
    "        if F.trailer_utf8.v(n) == '':\n",
    "            return f'{F.phono.v(n)}-'\n",
    "        return F.phono.v(n)\n",
    "\n",
    "fillWords(rawTree, firstSlot, phonoGloss).replace(' . f', '').replace(' . s','')"
   ]
  },
  {
   "cell_type": "markdown",
   "metadata": {},
   "source": [
    "### 3e Multilinedisplay"
   ]
  },
  {
   "cell_type": "code",
   "execution_count": 18,
   "metadata": {},
   "outputs": [
    {
     "name": "stdout",
     "output_type": "stream",
     "text": [
      " 1  S\n",
      " 2    C\n",
      " 3      CP-Conj\n",
      " 4        cj wᵊ-\n",
      " 3      NP-Subj\n",
      " 4        U\n",
      " 5          n ḵol-\n",
      " 4        U\n",
      " 5          U\n",
      " 6            n ʕˌēśev\n",
      " 5          U\n",
      " 6            dt ha-\n",
      " 6            n śśāḏˌeh\n",
      " 3      AdvP-Time\n",
      " 4        n ṭˈerem\n",
      " 3      VP-Pred\n",
      " 4        vb (ARG yi-)(v ṣmāḥ)\n"
     ]
    }
   ],
   "source": [
    "print(layout(structure(ph_functions), firstSlot, phonoGloss, withLevel=True))"
   ]
  },
  {
   "cell_type": "code",
   "execution_count": 19,
   "metadata": {},
   "outputs": [
    {
     "name": "stdout",
     "output_type": "stream",
     "text": [
      " 1  S\n",
      " 2    C\n",
      " 3      CP\n",
      " 4        cj wᵊ-\n",
      " 3      NP\n",
      " 4        U\n",
      " 5          n ḵol-\n",
      " 4        U\n",
      " 5          U\n",
      " 6            n ʕˌēśev\n",
      " 5          U\n",
      " 6            dt ha-\n",
      " 6            n śśāḏˌeh\n",
      " 3      AdvP\n",
      " 4        n ṭˈerem\n",
      " 3      VP\n",
      " 4        vb (ARG yi-)(v ṣmāḥ)\n"
     ]
    }
   ],
   "source": [
    "print(layout(structure(rawTree), firstSlot, phonoGloss, withLevel=True))"
   ]
  },
  {
   "cell_type": "markdown",
   "metadata": {},
   "source": [
    "## 4. Postprocessing\n",
    "\n",
    "Some sentences end with the sof-passoq and are translitterated ``` . f``` or ``` . s``` These accent marks are removed."
   ]
  },
  {
   "cell_type": "code",
   "execution_count": 20,
   "metadata": {
    "scrolled": true
   },
   "outputs": [
    {
     "name": "stdout",
     "output_type": "stream",
     "text": [
      "1172298 (S(C(NP-PreC(U(n yˌôm))(U(dt ha-)(aj ššiššˈî)))))\n",
      "1172868 (S(C(CP-Conj(cj û-))(PP-Loca(pp mi-)(av ššˌām))(VP-PreO(vb (v hᵉfîṣ-)(ARG Ø-)(PRO ām)))(PrNP-Subj(n-pr [yᵊhwˈāh]))(PP-Cmpl(pp ʕal-)(U(n pᵊnˌê))(U(U(n kol-))(U(dt hā-)(n ʔˈāreṣ))))))\n",
      "1176716 (S(C(PrNP-Frnt(n-pr gˌāḏ)))(Cresu(Ccoor(NP-Subj(n gᵊḏˈûḏ))(VP-PreO(vb (ARG yᵊ-)(v ḡûḏenn-)(PRO û))))(Ccoor(CP-Conj(cj wᵊ-))(PPrP-Subj(pr-ps hˌû))(VP-Pred(vb (ARG yā-)(v ḡuḏ)))(NP-Objc(n ʕāqˈēv)))))\n",
      "1177396 (S(C(CP-Conj(cj wᵊ-))(NegP-Nega(ng lˌō))(VP-Pred(vb (v šāmaʕ-)(ARG Ø)))(PP-Cmpl(pp (p ʔᵃlē-)(PRO hem)))(Cadju(CP-Conj(pp ka-)(cj ʔᵃšˌer))(VP-Pred(vb (v dibber-)(ARG Ø)))(PrNP-Subj(n-pr [yᵊhwˈāh])))))\n",
      "1182480 (S(C(Cadju(CP-Conj(pp ka-)(cj ʔᵃšˌer))(VP-Pred(vb (v dibber-)(ARG Ø)))(PrNP-Subj(n-pr [yᵊhwˌāh]))(PP-Cmpl(pp ʔel-)(n-pr mōšˈeh)))(AdvP-Modi(av kˌēn))(VP-Pred(vb (v ʕāś-)(ARG û)))(NP-Subj(U(n bᵊnˌê))(U(n-pr yiśrāʔˈēl)))))\n",
      "1182666 (S(C(DPrP-Subj(pr-dem zˈeh))(NP-PreC(U(n qorbˌan))(U(n-pr gamlîʔˌēl))(U(n ben-))(U(n-pr pᵊḏāhṣˈûr)))))\n",
      "1183821 (S(C(CP-Conj(cj wˈa-))(VP-Pred(vb (ARG yy-)(v aḥᵃnû)))(PP-Cmpl(pp bᵊ-)(U(n ʕˈarᵊvˈôṯ))(U(n-pr môʔˈāv)))(PP-Loca(pp mē-)(n ʕˌēver)(pp lᵊ-)(n-pr yardˌēn)(n-pr yᵊrēḥˈô))))\n",
      "1186342 (S(C(NegP-Nega(ng lˈō))(VP-Pred(vb (ARG ṯi-)(v lbaš)))(NP-Objc(n šˈaʕaṭnˈēz)(U(n ṣˌemer))(cj û-)(U(n fištˌîm)))(AdvP-Modi(av yaḥdˈāw))))\n",
      "1186707 (S(C(InjP-Intj(ij ʔāmˈēn))))\n",
      "1187220 (S(C(CP-Conj(cj wi-))(VP-Pred(vb yhˌî))(NP-Subj(n (n mᵊṯāʸ-)(PRO w)))(NP-PreC(n mispˈār))))\n",
      "1188105 (S(C(CP-Conj(cj wa-))(VP-Pred(vb (ARG yy-)(v aʕaś)))(PP-Cmpl(pp lᵊ-)(n (n malk-)(PRO āh)))(Cadju(CP-Conj(pp ka-)(cj ʔᵃšˌer))(VP-Pred(vb (v ʕāśā-)(ARG Ø)))(PP-Cmpl(pp lᵊ-)(U(n mˌeleḵ))(U(n-pr yᵊrîḥˈô))))))\n",
      "1193447 (S(C(CP-Conj(cj wᵊ-))(VP-Pred(vb šāʔˌôl))(PP-Cmpl(pp (p l-)(PRO ô)))(PP-Cmpl(pp bˈē-)(n ʔlōhˈîm))(Cadju(VP-Pred(pp lā-)(vb qˌûm))(PP-Cmpl(pp (p ʔēla-)(PRO y)))(PP-Adju(pp lᵊ-)(vb ʔōrˌēv))(PP-Time(pp ka-)(U(dt -)(n yyˌôm))(U(dt ha-)(pr-dem zzˈeh))))))\n",
      "1196007 (S(C(CP-Conj(cj wa-))(VP-Pred(vb (ARG yy-)(v iqqārē)))(PP-Cmpl(pp (p l-)(PRO āh)))(NP-Subj(U(n yˈaḏ))(U(n-pr ʔavšālˈōm)))(PP-Time(pp ʕˌaḏ)(U(dt ha-)(n yyˌôm))(U(dt ha-)(pr-dem zzˈeh)))))\n",
      "1197255 (S(C(AdvP-Modi(av kˈō-))(VP-Pred(vb (ARG yi-)(v ttēn)))(PrNP-Subj(n-pr šᵊlōmˈō))(PP-Cmpl(pp lᵊ-)(n-pr ḥîrˌām))(NP-Time(n šānˌā)(pp vᵊ-)(n šānˈā))))\n",
      "1201792 (S(C(VP-Pred(vb (v rîv-)(ARG û)))(NP-Objc(n ʔalmānˈā))))\n",
      "1202382 (S(C(VP-Pred(vb (ARG yᵊ-)(v nōfēf)))(NP-Objc(n (n yāḏ-)(PRO ô)))(NP-Cmpl(U(n hˈar))(U(U(n *baṯ-))(U(n-pr ṣiyyˈôn)))(U(n givʕˌaṯ))(U(n-pr yᵊrûšālˈāim)))))\n",
      "1205054 (S(C(VP-Pred(vb (v nās-)(ARG û)))(NP-Subj(U(n yāḡˌôn))(cj wa-)(U(n ʔᵃnāḥˈā)))))\n",
      "1205405 (S(C(NegP-NCop(n ʔˈên))(NP-Subj(n šālˈôm))(PP-PreC(pp lā-)(dt -)(aj rᵊšāʕˈîm))))\n",
      "1207881 (S(C(CP-Conj(cj kˈî))(PP-Cmpl(pp mē-)(pp ʔˌēṯ)(U(n nᵊvîʔˈê))(U(n-pr yᵊrûšālˈaim)))(VP-Pred(vb (v yāṣᵊʔ-)(ARG ā)))(NP-Subj(n ḥᵃnuppˌā))(PP-Cmpl(pp lᵊ-)(U(n ḵol-))(U(dt hā-)(n ʔˈāreṣ)))))\n",
      "1208581 (S(C(CP-Conj(cj wᵊˈ-))(NegP-Nega(ng lō-))(VP-Pred(vb (ARG yē-)(v hārēs)))(AdvP-Modi(n ʕˌôḏ))(PP-Time(pp lᵊ-)(n ʕôlˈām))))\n",
      "1209428 (S(C(NP-Voct(U(n kol-))(U(n-pr yᵊhûḏˈā))(Cattr(CP-Rela(cj ʔᵃšˌer))(PP-PreC(pp bᵊ-)(U(n ʔˌereṣ))(U(n-pr miṣrˈāyim)))))))\n",
      "1209468 (S(C(CP-Conj(cj wᵊ-))(VP-Pred(vb (v nāṯat-)(ARG tî)))(PP-Cmpl(pp (p l-)(PRO ᵊḵā)))(PP-Objc(pp ʔˈeṯ-)(n (n nafš-)(PRO ᵊḵā)))(PP-Cmpl(pp lᵊ-)(n šālˈāl))(PP-Loca(pp ʕˌal)(U(n kol-))(U(dt ha-)(n mmᵊqōmˌôṯ))(Cattr(CP-Rela(cj ʔᵃšˌer))(VP-Pred(vb (ARG tē-)(v leḵ-)))(AdvP-Cmpl(av šˈām))))))\n",
      "1225406 (S(C(PPrP-Subj(pr-ps ˈhˈû))(NP-PreC(n mˈeleḵ)(pp ʕal-)(U(n kol-))(U(U(n bᵊnê-))(U(n šˈāḥaṣ))))))\n",
      "1227185 (S(C(NegP-Nega(ng lˈō-))(VP-Pred(vb (v fāʕal-)(ARG tî)))(NP-Objc(n ʔˈāwen))))\n",
      "1228375 (S(C(CP-Conj(cj kˌî))(NegP-NCop(n ʔˌên))(NP-Subj(U(n maʕᵃśˈeh))(cj wᵊ-)(U(U(n ḥešbôn)))(cj wᵊ-)(U(U(n ḏˈaʕaṯ)))(cj wᵊ-)(U(n ḥoḵmˈā)))(PP-PreC(pp bi-)(n šᵊʔˈôl)(Cattr(CP-Rela(cj ʔᵃšˌer))(PPrP-Subj(pr-ps ʔattˌā))(VP-PreC(vb (v hōlēḵ-)(ARG Ø)))(AdvP-Modi(av šˈāmmā))))))\n",
      "1228850 (S(C(NegP-Nega(ng lˌō))(VP-Pred(vb (ARG yô-)(v sîfû)))(Cadju(VP-Pred(pp lā-)(vb ḡˈûr)))))\n",
      "1230526 (S(C(NP-PreC(U(n kēlˌîm))(U(aj ʔᵃḥērˌîm))(n ʔˈālef))))\n",
      "1230961 (S(C(CP-Conj(cj wᵊ-))(PPrP-Subj(pr-ps hˌû))(VP-Pred(vb (ARG yi-)(v bbāḏēl)))(PP-Cmpl(pp mi-)(U(n qqᵊhˌal))(U(dt ha-)(n ggôlˈā)))))\n",
      "1231129 (S(C(CP-Conj(cj wᵊ-))(PP-Loca(pp ʕal-)(n (n yāḏ-)(PRO ām)))(VP-Pred(vb (v heḥᵉzîq-)(ARG Ø)))(PrNP-Subj(n-pr rᵊfāyˈā)(U(n ven-))(U(n-pr ḥˈûr))(U(n śˈar))(U(U(n ḥᵃṣˌî))(U(U(n pˌeleḵ))(U(n-pr yᵊrûšālˈāim)))))))\n",
      "1231739 (S(C(CP-Conj(cj wᵊ-))(NP-Subj(dt ha-)(aj lᵊwiyyˈim))(VP-PreC(vb (v maqdišîm-)(ARG Ø)))(PP-Cmpl(pp li-)(U(n vᵊnˌê))(U(n-pr ʔahᵃrˈōn)))))\n",
      "1231989 (S(C(CP-Conj(cj û-))(NP-Subj(U(n vaṯ-))(U(n-pr kālˌēv)))(PrNP-PreC(n-pr ʕaḵsˈā))))\n",
      "1232758 (S(C(CP-Conj(cj kî-))(PP-Cmpl(pp (p v-)(PRO ām)))(VP-Pred(vb (v bāḥar-)(ARG Ø)))(PrNP-Subj(n-pr [yᵊhwˈāh]))(Cadju(Ccoor(VP-Pred(pp lā-)(vb śˈēṯ))(PP-Objc(pp ʔeṯ-)(U(n ʔᵃrˈôn))(U(n-pr [yᵊhwˈāh]))))(Ccoor(CP-Conj(cj ˈû-))(VP-PreO(pp lᵊ-)(vb (v šārᵊṯ-)(PRO ô)))(PP-Time(pp ʕaḏ-)(n ʕôlˈām))))))\n",
      "1233485 (S(C(CP-Conj(cj wᵊ-))(PP-PreC(pp ʕˌal)(n (n maḥᵃluqt-)(PRO ô)))(NP-Subj(U(U(n ʕeśrˌîm))(cj wᵊ-)(U(n ʔarbāʕˌā)))(U(n ʔˈālef)))))\n",
      "1234459 (S(C(CP-Conj(cj û-))(NP-Subj(n milḥāmˌā))(NegP-Nega(ng lˈō))(VP-Pred(vb hāyˈāṯā))(PP-PreC(pp ʕˈaḏ)(U(n šᵊnaṯ-))(U(U(n šᵊlōšˌîm))(cj wᵊ-)(U(n ḥāmˌēš)))(pp lᵊ-)(U(n malᵊḵˌûṯ))(U(n-pr ʔāsˈā)))))\n",
      "1234865 (S(C(CP-Conj(cj wa-))(VP-Pred(vb (ARG yy-)(v addaḥ)))(PP-Objc(pp ʔeṯ-)(n-pr yᵊhûḏˈā))))\n",
      "1235121 (S(C(CP-Conj(cj wa-))(VP-Pred(vb (ARG yy-)(v āšûvû)))(PP-Cmpl(pp li-)(n (n mᵊqôm-)(PRO ām)))(PP-Adju(pp bo-)(U(n ḥᵒrî-))(U(n ʔˈāf)))))\n"
     ]
    }
   ],
   "source": [
    "for s in first_sentences:\n",
    "    rawTree = F.tree.v(s)\n",
    "    firstSlot = L.d(s, 'word')[0]\n",
    "    with_accent = fillWords(fillPhrases(rawTree, firstSlot, F.function.v),firstSlot,phonoGloss)\n",
    "    no_accent = fillWords(fillPhrases(rawTree, firstSlot, F.function.v),firstSlot,phonoGloss).replace(' . f', '').replace(' . s','')\n",
    "    \n",
    "    if with_accent != no_accent:\n",
    "        print(s, no_accent)"
   ]
  },
  {
   "cell_type": "markdown",
   "metadata": {},
   "source": [
    "The sentences can succesfully be cleaned by removing the punctuations."
   ]
  },
  {
   "cell_type": "markdown",
   "metadata": {},
   "source": [
    "## 5. Test word segmentation\n",
    "\n",
    "The following codes allow a visual check of the word segmentations for validation"
   ]
  },
  {
   "cell_type": "code",
   "execution_count": null,
   "metadata": {},
   "outputs": [],
   "source": [
    "check_words = collections.defaultdict(list)\n",
    "for s in first_sentences:\n",
    "    \n",
    "    for w in L.d(s, 'word'):\n",
    "        if F.prs.v(w) not in {'none','N/A','n/a','nan','absent'} or (F.vt.v(w) in tenses and F.pdp.v(w) == 'verb'):\n",
    "            check_words[F.phono.v(w)].append(w)\n",
    "            \n",
    "len(check_words)"
   ]
  },
  {
   "cell_type": "markdown",
   "metadata": {},
   "source": [
    "For simplicity, we will only check one instance of each representation:"
   ]
  },
  {
   "cell_type": "code",
   "execution_count": null,
   "metadata": {},
   "outputs": [],
   "source": [
    "check_list = [check_words[n][0] for n in check_words]"
   ]
  },
  {
   "cell_type": "code",
   "execution_count": null,
   "metadata": {},
   "outputs": [],
   "source": [
    "def show(n):\n",
    "    print(n, segmentWord(n))\n",
    "    A.pretty(n)"
   ]
  },
  {
   "cell_type": "code",
   "execution_count": null,
   "metadata": {},
   "outputs": [],
   "source": [
    "n=0"
   ]
  },
  {
   "cell_type": "code",
   "execution_count": null,
   "metadata": {},
   "outputs": [],
   "source": [
    "print(n)\n",
    "show(check_list[n])\n",
    "n+=1"
   ]
  },
  {
   "cell_type": "markdown",
   "metadata": {},
   "source": [
    "## 6. Export trees\n",
    "\n",
    "Having settled on a layout, we can now export as an txt-file.\n",
    "\n",
    "First, however, we want to filter out those sentences which have been found corrupted in the sanity test (cf. [Sanity_tests.ipynb](Sanity_tests.ipynb)):"
   ]
  },
  {
   "cell_type": "code",
   "execution_count": null,
   "metadata": {},
   "outputs": [],
   "source": [
    "corrupted_sentences = [1176197,\n",
    " 1178797,\n",
    " 1182766,\n",
    " 1184652,\n",
    " 1185036,\n",
    " 1187217,\n",
    " 1187686,\n",
    " 1187914,\n",
    " 1188003,\n",
    " 1190665,\n",
    " 1192881,\n",
    " 1194836,\n",
    " 1201271,\n",
    " 1202352,\n",
    " 1203512,\n",
    " 1205405,\n",
    " 1208029,\n",
    " 1208691,\n",
    " 1208830,\n",
    " 1209662,\n",
    " 1213205,\n",
    " 1216647,\n",
    " 1217208,\n",
    " 1217763,\n",
    " 1219985,\n",
    " 1221948,\n",
    " 1222908,\n",
    " 1225430,\n",
    " 1229092,\n",
    " 1230004,\n",
    " 1230106,\n",
    " 1232963,\n",
    " 1233972,\n",
    " 1234606,\n",
    " 1235787]"
   ]
  },
  {
   "cell_type": "code",
   "execution_count": null,
   "metadata": {},
   "outputs": [],
   "source": [
    "export_sentences = [s for s in first_sentences if s not in corrupted_sentences]\n",
    "len(export_sentences)"
   ]
  },
  {
   "cell_type": "code",
   "execution_count": null,
   "metadata": {},
   "outputs": [],
   "source": [
    "with open('bhsa_trees_5.txt', 'w', encoding='utf-8') as f:\n",
    "    for s in first_sentences:\n",
    "        if s not in corrupted_sentences:\n",
    "            bo, ch, ve = T.sectionFromNode(s)\n",
    "            rawTree = F.tree.v(s)\n",
    "            firstSlot = L.d(s, 'word')[0]\n",
    "            f.write('''{}_{}:{}_{}\\t{}\\n'''.format(bo[:3], ch, ve, s, fillWords(fillPhrases(rawTree, firstSlot, F.function.v),firstSlot,phonoGloss).replace(' . f', '').replace(' . s','')))"
   ]
  }
 ],
 "metadata": {
  "kernelspec": {
   "display_name": "Python 3",
   "language": "python",
   "name": "python3"
  },
  "language_info": {
   "codemirror_mode": {
    "name": "ipython",
    "version": 3
   },
   "file_extension": ".py",
   "mimetype": "text/x-python",
   "name": "python",
   "nbconvert_exporter": "python",
   "pygments_lexer": "ipython3",
   "version": "3.7.3"
  }
 },
 "nbformat": 4,
 "nbformat_minor": 2
}
